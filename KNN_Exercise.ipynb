{
  "cells": [
    {
      "cell_type": "markdown",
      "metadata": {
        "id": "view-in-github",
        "colab_type": "text"
      },
      "source": [
        "<a href=\"https://colab.research.google.com/github/abdelrahman-toni/Machine-learning/blob/main/KNN_Exercise.ipynb\" target=\"_parent\"><img src=\"https://colab.research.google.com/assets/colab-badge.svg\" alt=\"Open In Colab\"/></a>"
      ]
    },
    {
      "cell_type": "markdown",
      "metadata": {
        "id": "Xq9R_b0M56kx"
      },
      "source": [
        "# KNN Exercise\n",
        "\n",
        "Due to the simplicity of KNN for Classification, let's focus on using a Pipeline and a GridSearchCV tool, since these skills can be generalized for any model."
      ]
    },
    {
      "cell_type": "markdown",
      "metadata": {
        "id": "43sR6xzX56ky"
      },
      "source": [
        "\n",
        "## The Sonar Data\n",
        "\n",
        "### Detecting a Rock or a Mine\n",
        "\n",
        "Sonar (sound navigation ranging) is a technique that uses sound propagation (usually underwater, as in submarine navigation) to navigate, communicate with or detect objects on or under the surface of the water, such as other vessels.\n",
        "\n",
        "\n",
        "\n",
        "The data set contains the response metrics for 60 separate sonar frequencies sent out against a known mine field (and known rocks). These frequencies are then labeled with the known object they were beaming the sound at (either a rock or a mine).\n",
        "\n",
        "\n",
        "\n",
        "Our main goal is to create a machine learning model capable of detecting the difference between a rock or a mine based on the response of the 60 separate sonar frequencies.\n",
        "\n",
        "\n",
        "Data Source: https://archive.ics.uci.edu/ml/datasets/Connectionist+Bench+(Sonar,+Mines+vs.+Rocks)\n",
        "\n",
        "### Complete the Tasks in bold\n",
        "\n",
        "**TASK: Run the cells below to load the data.**"
      ]
    },
    {
      "cell_type": "code",
      "execution_count": null,
      "metadata": {
        "id": "xUl0IOs656kz"
      },
      "outputs": [],
      "source": [
        "import numpy as np\n",
        "import pandas as pd"
      ]
    },
    {
      "cell_type": "code",
      "execution_count": null,
      "metadata": {
        "id": "V0Z7ay1v56k0"
      },
      "outputs": [],
      "source": [
        "df = pd.read_csv('/sonar.all-data.csv')"
      ]
    },
    {
      "cell_type": "code",
      "execution_count": null,
      "metadata": {
        "id": "Qh6eO3zb56k0"
      },
      "outputs": [],
      "source": [
        "df.head()"
      ]
    },
    {
      "cell_type": "markdown",
      "source": [
        "# New section"
      ],
      "metadata": {
        "id": "4TABlkl5TYCZ"
      }
    },
    {
      "cell_type": "markdown",
      "metadata": {
        "id": "ZEoKX5ey56k1"
      },
      "source": [
        "### Train | Test Split\n",
        "\n",
        "Our approach here will be one of using Cross Validation on 90% of the dataset, and then judging our results on a final test set of 10% to evaluate our model.\n",
        "\n",
        "**TASK: Split the data into features and labels, and then split into a training set and test set, with 90% for Cross-Validation training, and 10% for a final test set.**\n",
        "\n",
        "*Note: The solution uses a random_state=42*"
      ]
    },
    {
      "cell_type": "code",
      "execution_count": null,
      "metadata": {
        "id": "kX_heuZI56k1"
      },
      "outputs": [],
      "source": [
        "from sklearn.model_selection import train_test_split\n",
        "X_train, X_test, y_train, y_test = train_test_split(X, y, test_size=0.1)"
      ]
    },
    {
      "cell_type": "code",
      "execution_count": null,
      "metadata": {
        "id": "y8EOti_L56k1"
      },
      "outputs": [],
      "source": [
        "from sklearn.model_selection import train_test_split\n",
        "X = df.drop(['Label'],axis=1)\n",
        "y = df['Label']\n",
        "\n",
        "X_cv, X_test, y_cv, y_test = train_test_split(X, y, test_size=0.1, random_state=42)"
      ]
    },
    {
      "cell_type": "markdown",
      "metadata": {
        "id": "a_QKbHUL56k2"
      },
      "source": [
        "**TASK: Create a Pipeline that contains both a StandardScaler and a KNN model**"
      ]
    },
    {
      "cell_type": "code",
      "execution_count": null,
      "metadata": {
        "id": "J3K3VY0y56k2"
      },
      "outputs": [],
      "source": [
        "from sklearn.preprocessing import StandardScaler\n",
        "scaler = StandardScaler()\n",
        "from sklearn.neighbors import KNeighborsClassifier\n",
        "knn = KNeighborsClassifier()\n",
        "operations = [('scaler',scaler),('knn',knn)]\n",
        "from sklearn.pipeline import Pipeline\n",
        "pipe = Pipeline(operations)"
      ]
    },
    {
      "cell_type": "code",
      "source": [],
      "metadata": {
        "id": "noeMvuJOV1AL"
      },
      "execution_count": null,
      "outputs": []
    },
    {
      "cell_type": "code",
      "source": [],
      "metadata": {
        "id": "A9NEz08xV1Rb"
      },
      "execution_count": null,
      "outputs": []
    },
    {
      "cell_type": "markdown",
      "source": [
        "# New section"
      ],
      "metadata": {
        "id": "HXDLrQj8V2Du"
      }
    },
    {
      "cell_type": "markdown",
      "metadata": {
        "id": "OyEkhDOJ56k2"
      },
      "source": [
        "**TASK: Perform a grid-search with the pipeline to test various values of k and report back the best performing parameters.**"
      ]
    },
    {
      "cell_type": "code",
      "execution_count": null,
      "metadata": {
        "id": "oA9k5PUQ56k2",
        "colab": {
          "base_uri": "https://localhost:8080/"
        },
        "outputId": "191a00e3-80c1-4ff7-8d5a-202dc407ce47"
      },
      "outputs": [
        {
          "output_type": "execute_result",
          "data": {
            "text/plain": [
              "{'memory': None,\n",
              " 'steps': [('scaler', StandardScaler()),\n",
              "  ('knn', KNeighborsClassifier(n_neighbors=1))],\n",
              " 'transform_input': None,\n",
              " 'verbose': False,\n",
              " 'scaler': StandardScaler(),\n",
              " 'knn': KNeighborsClassifier(n_neighbors=1),\n",
              " 'scaler__copy': True,\n",
              " 'scaler__with_mean': True,\n",
              " 'scaler__with_std': True,\n",
              " 'knn__algorithm': 'auto',\n",
              " 'knn__leaf_size': 30,\n",
              " 'knn__metric': 'minkowski',\n",
              " 'knn__metric_params': None,\n",
              " 'knn__n_jobs': None,\n",
              " 'knn__n_neighbors': 1,\n",
              " 'knn__p': 2,\n",
              " 'knn__weights': 'uniform'}"
            ]
          },
          "metadata": {},
          "execution_count": 17
        }
      ],
      "source": [
        "k_values = list(range(1,20))\n",
        "\n",
        "param_grid = {'knn__n_neighbors': k_values}\n",
        "\n",
        "full_search.fit(X_train,y_train)\n",
        "full_search.best_estimator_.get_params()\n"
      ]
    },
    {
      "cell_type": "code",
      "execution_count": null,
      "metadata": {
        "id": "IKKBosI456k3"
      },
      "outputs": [],
      "source": [
        "from sklearn.model_selection import GridSearchCV\n",
        "full_search = GridSearchCV(pipe,param_grid,scoring='accuracy')"
      ]
    },
    {
      "cell_type": "code",
      "execution_count": null,
      "metadata": {
        "id": "cPhdpoUP56k3",
        "outputId": "eb91e230-3f3c-4fbf-8f59-9ac8ba46d688",
        "colab": {
          "base_uri": "https://localhost:8080/"
        }
      },
      "outputs": [
        {
          "output_type": "execute_result",
          "data": {
            "text/plain": [
              "{'memory': None,\n",
              " 'steps': [('scaler', StandardScaler()),\n",
              "  ('knn', KNeighborsClassifier(n_neighbors=1))],\n",
              " 'transform_input': None,\n",
              " 'verbose': False,\n",
              " 'scaler': StandardScaler(),\n",
              " 'knn': KNeighborsClassifier(n_neighbors=1),\n",
              " 'scaler__copy': True,\n",
              " 'scaler__with_mean': True,\n",
              " 'scaler__with_std': True,\n",
              " 'knn__algorithm': 'auto',\n",
              " 'knn__leaf_size': 30,\n",
              " 'knn__metric': 'minkowski',\n",
              " 'knn__metric_params': None,\n",
              " 'knn__n_jobs': None,\n",
              " 'knn__n_neighbors': 1,\n",
              " 'knn__p': 2,\n",
              " 'knn__weights': 'uniform'}"
            ]
          },
          "metadata": {},
          "execution_count": 18
        }
      ],
      "source": [
        "full_search.fit(X_train,y_train)\n",
        "full_search.best_estimator_.get_params()"
      ]
    },
    {
      "cell_type": "markdown",
      "metadata": {
        "id": "xxNSIeFm56k3"
      },
      "source": [
        "### Final Model Evaluation\n",
        "\n",
        "**TASK: Using the grid classifier object from the previous step, get a final performance classification report and confusion matrix.**"
      ]
    },
    {
      "cell_type": "code",
      "execution_count": null,
      "metadata": {
        "id": "C9clMUbq56k3"
      },
      "outputs": [],
      "source": [
        "pred=full_search.predict(X_test)"
      ]
    },
    {
      "cell_type": "code",
      "execution_count": null,
      "metadata": {
        "id": "6XdpdSsG56k3",
        "outputId": "8c64331a-c75b-4217-dae1-8aba475923f3",
        "colab": {
          "base_uri": "https://localhost:8080/"
        }
      },
      "outputs": [
        {
          "output_type": "execute_result",
          "data": {
            "text/plain": [
              "array([[9, 1],\n",
              "       [3, 8]])"
            ]
          },
          "metadata": {},
          "execution_count": 21
        }
      ],
      "source": [
        "from sklearn.metrics import classification_report,confusion_matrix,accuracy_score\n",
        "confusion_matrix(y_test,pred)"
      ]
    },
    {
      "cell_type": "code",
      "execution_count": null,
      "metadata": {
        "id": "pBjct4qs56k4",
        "outputId": "40760421-5afe-4bcf-9dba-d540e69c19c4",
        "colab": {
          "base_uri": "https://localhost:8080/"
        }
      },
      "outputs": [
        {
          "output_type": "stream",
          "name": "stdout",
          "text": [
            "              precision    recall  f1-score   support\n",
            "\n",
            "           M       0.75      0.90      0.82        10\n",
            "           R       0.89      0.73      0.80        11\n",
            "\n",
            "    accuracy                           0.81        21\n",
            "   macro avg       0.82      0.81      0.81        21\n",
            "weighted avg       0.82      0.81      0.81        21\n",
            "\n"
          ]
        }
      ],
      "source": [
        "print(classification_report(y_test,pred))"
      ]
    },
    {
      "cell_type": "markdown",
      "metadata": {
        "id": "7l_OHJYE56k4"
      },
      "source": [
        "### Great Job!"
      ]
    }
  ],
  "metadata": {
    "colab": {
      "provenance": [],
      "include_colab_link": true
    },
    "kernelspec": {
      "display_name": "Python 3 (ipykernel)",
      "language": "python",
      "name": "python3"
    },
    "language_info": {
      "codemirror_mode": {
        "name": "ipython",
        "version": 3
      },
      "file_extension": ".py",
      "mimetype": "text/x-python",
      "name": "python",
      "nbconvert_exporter": "python",
      "pygments_lexer": "ipython3",
      "version": "3.9.12"
    }
  },
  "nbformat": 4,
  "nbformat_minor": 0
}